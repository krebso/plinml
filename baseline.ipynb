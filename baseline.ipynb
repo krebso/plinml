{
 "cells": [
  {
   "cell_type": "code",
   "execution_count": 43,
   "id": "bc15c0ed",
   "metadata": {},
   "outputs": [],
   "source": [
    "import polars as pl\n",
    "import numpy as np"
   ]
  },
  {
   "cell_type": "code",
   "execution_count": 44,
   "id": "904ce2bb",
   "metadata": {},
   "outputs": [],
   "source": [
    "df = pl.read_csv(\"data/distress.csv\",infer_schema_length=10000).with_columns([\n",
    "    pl.col(\"Company\").cast(pl.Utf8).cast(pl.Categorical),\n",
    "    # pl.col(\"Time\").cast(pl.Utf8).cast(pl.Categorical),\n",
    "])"
   ]
  },
  {
   "cell_type": "code",
   "execution_count": 45,
   "id": "5e42d344",
   "metadata": {},
   "outputs": [
    {
     "data": {
      "text/html": [
       "<div><style>\n",
       ".dataframe > thead > tr > th,\n",
       ".dataframe > tbody > tr > td {\n",
       "  text-align: right;\n",
       "}\n",
       "</style>\n",
       "<small>shape: (5, 85)</small><table border=\"1\" class=\"dataframe\"><thead><tr><th>Company</th><th>Financial Distress</th><th>x1</th><th>x2</th><th>x3</th><th>x4</th><th>x5</th><th>x6</th><th>x7</th><th>x8</th><th>x9</th><th>x10</th><th>x11</th><th>x12</th><th>x13</th><th>x14</th><th>x15</th><th>x16</th><th>x17</th><th>x18</th><th>x19</th><th>x20</th><th>x21</th><th>x22</th><th>x23</th><th>x24</th><th>x25</th><th>x26</th><th>x27</th><th>x28</th><th>x29</th><th>x30</th><th>x31</th><th>x32</th><th>x33</th><th>x34</th><th>x35</th><th>&hellip;</th><th>x47</th><th>x48</th><th>x49</th><th>x50</th><th>x51</th><th>x52</th><th>x53</th><th>x54</th><th>x55</th><th>x56</th><th>x57</th><th>x58</th><th>x59</th><th>x60</th><th>x61</th><th>x62</th><th>x63</th><th>x64</th><th>x65</th><th>x66</th><th>x67</th><th>x68</th><th>x69</th><th>x70</th><th>x71</th><th>x72</th><th>x73</th><th>x74</th><th>x75</th><th>x76</th><th>x77</th><th>x78</th><th>x79</th><th>x80</th><th>x81</th><th>x82</th><th>x83</th></tr><tr><td>cat</td><td>f64</td><td>f64</td><td>f64</td><td>f64</td><td>f64</td><td>f64</td><td>f64</td><td>f64</td><td>f64</td><td>f64</td><td>f64</td><td>f64</td><td>f64</td><td>f64</td><td>f64</td><td>f64</td><td>f64</td><td>f64</td><td>f64</td><td>f64</td><td>f64</td><td>f64</td><td>f64</td><td>f64</td><td>f64</td><td>f64</td><td>f64</td><td>f64</td><td>f64</td><td>f64</td><td>f64</td><td>f64</td><td>f64</td><td>f64</td><td>f64</td><td>f64</td><td>&hellip;</td><td>f64</td><td>f64</td><td>f64</td><td>f64</td><td>f64</td><td>f64</td><td>f64</td><td>f64</td><td>f64</td><td>f64</td><td>f64</td><td>f64</td><td>f64</td><td>f64</td><td>f64</td><td>f64</td><td>f64</td><td>f64</td><td>f64</td><td>f64</td><td>f64</td><td>f64</td><td>f64</td><td>f64</td><td>f64</td><td>f64</td><td>f64</td><td>f64</td><td>f64</td><td>f64</td><td>f64</td><td>f64</td><td>f64</td><td>i64</td><td>f64</td><td>i64</td><td>i64</td></tr></thead><tbody><tr><td>&quot;113&quot;</td><td>-1.4236</td><td>1.6988</td><td>0.028931</td><td>0.56967</td><td>0.28909</td><td>-0.036253</td><td>0.21861</td><td>0.67484</td><td>0.10007</td><td>0.067229</td><td>0.0044898</td><td>0.53145</td><td>-6.8274</td><td>0.43033</td><td>1.3238</td><td>1.6518</td><td>-0.1254</td><td>0.91888</td><td>0.014097</td><td>0.018368</td><td>0.045062</td><td>0.54398</td><td>0.65661</td><td>-0.008192</td><td>0.31284</td><td>135.57</td><td>12.384</td><td>1.3224</td><td>0.54136</td><td>0.25683</td><td>0.21111</td><td>3.7495</td><td>0.73026</td><td>0.54916</td><td>0.91142</td><td>217.94</td><td>&hellip;</td><td>1.326</td><td>2016.5</td><td>0.72696</td><td>1.0082</td><td>11.143</td><td>-0.090897</td><td>-0.002368</td><td>62.98</td><td>-0.55287</td><td>0.31719</td><td>0.67373</td><td>0.0017909</td><td>0.0061949</td><td>0.0</td><td>7.4166</td><td>7.105</td><td>14.321</td><td>18.77</td><td>124.76</td><td>26.124</td><td>11.8</td><td>8322.8</td><td>0.1896</td><td>15.6</td><td>24.579</td><td>0.0</td><td>36.0</td><td>107.09</td><td>31.31</td><td>30.194</td><td>17.0</td><td>16.0</td><td>0.4</td><td>20</td><td>0.021039</td><td>10</td><td>43</td></tr><tr><td>&quot;417&quot;</td><td>0.041872</td><td>29.233</td><td>0.043577</td><td>0.034891</td><td>0.13391</td><td>-0.028079</td><td>0.92955</td><td>28.793</td><td>0.32542</td><td>0.045153</td><td>0.077611</td><td>0.96247</td><td>-10251.0</td><td>0.96511</td><td>0.036153</td><td>1.84</td><td>-0.20968</td><td>10.352</td><td>0.19638</td><td>0.0</td><td>5.9646</td><td>0.13913</td><td>3.8705</td><td>0.0058501</td><td>0.032925</td><td>49.716</td><td>12.808</td><td>0.14406</td><td>0.45551</td><td>0.0019667</td><td>0.948</td><td>40.637</td><td>7.0793</td><td>0.94363</td><td>10.413</td><td>195.65</td><td>&hellip;</td><td>0.036153</td><td>1101.1</td><td>0.034115</td><td>0.99415</td><td>10.797</td><td>-0.18618</td><td>0.0007834</td><td>6984.0</td><td>0.47901</td><td>0.01286</td><td>-0.080178</td><td>0.0</td><td>0.0</td><td>0.0</td><td>-1.5863</td><td>-7.5046</td><td>12.145</td><td>-20.229</td><td>28.286</td><td>30.023</td><td>11.0</td><td>34501.0</td><td>-32.209</td><td>11.9</td><td>13.871</td><td>1.0</td><td>29.0</td><td>91.7</td><td>227.5</td><td>214.5</td><td>21.0</td><td>20.5</td><td>8.6</td><td>33</td><td>0.088544</td><td>5</td><td>5</td></tr><tr><td>&quot;193&quot;</td><td>0.0023833</td><td>1.0011</td><td>0.02073</td><td>0.67372</td><td>1.5659</td><td>0.035741</td><td>0.000631</td><td>0.73972</td><td>0.013238</td><td>0.063533</td><td>0.0072724</td><td>0.59495</td><td>0.72375</td><td>0.32628</td><td>2.0648</td><td>4.4555</td><td>0.022825</td><td>12.006</td><td>0.061082</td><td>0.031536</td><td>0.10278</td><td>2.632</td><td>5.8663</td><td>0.10944</td><td>0.59432</td><td>67.367</td><td>12.181</td><td>2482.3</td><td>-0.13094</td><td>0.079401</td><td>0.43963</td><td>11.741</td><td>0.28075</td><td>0.88214</td><td>13.481</td><td>80.798</td><td>&hellip;</td><td>2.0648</td><td>1060.3</td><td>1.8215</td><td>0.89056</td><td>12.629</td><td>0.027108</td><td>0.17137</td><td>3214.0</td><td>0.9414</td><td>0.11615</td><td>-0.003179</td><td>-0.04465</td><td>-0.028514</td><td>0.0</td><td>-0.38605</td><td>-5.2355</td><td>10.898</td><td>-16.307</td><td>15.999</td><td>28.101</td><td>10.9</td><td>34076.0</td><td>-38.688</td><td>12.825</td><td>16.046</td><td>1.25</td><td>29.25</td><td>92.0</td><td>221.42</td><td>212.0</td><td>21.25</td><td>20.875</td><td>8.05</td><td>26</td><td>0.023633</td><td>39</td><td>50</td></tr><tr><td>&quot;129&quot;</td><td>0.0046932</td><td>2.3099</td><td>-0.050217</td><td>0.41612</td><td>0.48674</td><td>-0.011442</td><td>0.49129</td><td>0.76675</td><td>-0.10317</td><td>-0.086006</td><td>0.15987</td><td>0.86635</td><td>-0.22657</td><td>0.58388</td><td>0.71269</td><td>1.9625</td><td>-0.023507</td><td>0.76784</td><td>0.033905</td><td>0.10375</td><td>0.090399</td><td>0.56183</td><td>3.8558</td><td>0.10273</td><td>0.37506</td><td>-124.68</td><td>12.295</td><td>0.99074</td><td>-0.1185</td><td>0.041063</td><td>0.28758</td><td>7.4849</td><td>0.59082</td><td>0.90132</td><td>0.85575</td><td>183.44</td><td>&hellip;</td><td>0.71393</td><td>1449.7</td><td>0.64236</td><td>0.89727</td><td>11.574</td><td>0.026422</td><td>0.050002</td><td>681.73</td><td>-1.0</td><td>0.56879</td><td>-0.12712</td><td>0.000389</td><td>0.000799</td><td>0.0</td><td>-1.5863</td><td>-7.5046</td><td>12.145</td><td>-20.229</td><td>28.286</td><td>30.023</td><td>11.0</td><td>34501.0</td><td>-32.209</td><td>11.9</td><td>13.871</td><td>1.0</td><td>29.0</td><td>91.7</td><td>227.5</td><td>214.5</td><td>21.0</td><td>20.5</td><td>8.6</td><td>9</td><td>0.39694</td><td>25</td><td>54</td></tr><tr><td>&quot;289&quot;</td><td>0.53921</td><td>1.0377</td><td>0.02058</td><td>0.92838</td><td>1.1883</td><td>0.059205</td><td>0.034824</td><td>0.81537</td><td>0.017318</td><td>0.28734</td><td>0.022124</td><td>0.95944</td><td>1.79</td><td>0.07162</td><td>12.963</td><td>1.6059</td><td>0.049823</td><td>5.2168</td><td>0.013942</td><td>0.027835</td><td>0.015078</td><td>1.2385</td><td>33.184</td><td>0.10502</td><td>0.92462</td><td>508.34</td><td>16.106</td><td>34.124</td><td>0.26317</td><td>0.0037594</td><td>0.7539</td><td>1.5521</td><td>0.63443</td><td>0.99595</td><td>5.8289</td><td>224.17</td><td>&hellip;</td><td>13.527</td><td>1769.1</td><td>12.91</td><td>0.89498</td><td>16.279</td><td>0.052669</td><td>0.12479</td><td>8153.6</td><td>-0.1454</td><td>0.20387</td><td>0.16196</td><td>-0.006999</td><td>-0.00589</td><td>0.23237</td><td>-1.5863</td><td>-7.5046</td><td>12.145</td><td>-20.229</td><td>28.286</td><td>30.023</td><td>11.0</td><td>34501.0</td><td>-32.209</td><td>11.9</td><td>13.871</td><td>1.0</td><td>29.0</td><td>91.7</td><td>227.5</td><td>214.5</td><td>21.0</td><td>20.5</td><td>8.6</td><td>29</td><td>0.54649</td><td>4</td><td>42</td></tr></tbody></table></div>"
      ],
      "text/plain": [
       "shape: (5, 85)\n",
       "┌─────────┬────────────────────┬────────┬───────────┬───┬─────┬──────────┬─────┬─────┐\n",
       "│ Company ┆ Financial Distress ┆ x1     ┆ x2        ┆ … ┆ x80 ┆ x81      ┆ x82 ┆ x83 │\n",
       "│ ---     ┆ ---                ┆ ---    ┆ ---       ┆   ┆ --- ┆ ---      ┆ --- ┆ --- │\n",
       "│ cat     ┆ f64                ┆ f64    ┆ f64       ┆   ┆ i64 ┆ f64      ┆ i64 ┆ i64 │\n",
       "╞═════════╪════════════════════╪════════╪═══════════╪═══╪═════╪══════════╪═════╪═════╡\n",
       "│ 113     ┆ -1.4236            ┆ 1.6988 ┆ 0.028931  ┆ … ┆ 20  ┆ 0.021039 ┆ 10  ┆ 43  │\n",
       "│ 417     ┆ 0.041872           ┆ 29.233 ┆ 0.043577  ┆ … ┆ 33  ┆ 0.088544 ┆ 5   ┆ 5   │\n",
       "│ 193     ┆ 0.0023833          ┆ 1.0011 ┆ 0.02073   ┆ … ┆ 26  ┆ 0.023633 ┆ 39  ┆ 50  │\n",
       "│ 129     ┆ 0.0046932          ┆ 2.3099 ┆ -0.050217 ┆ … ┆ 9   ┆ 0.39694  ┆ 25  ┆ 54  │\n",
       "│ 289     ┆ 0.53921            ┆ 1.0377 ┆ 0.02058   ┆ … ┆ 29  ┆ 0.54649  ┆ 4   ┆ 42  │\n",
       "└─────────┴────────────────────┴────────┴───────────┴───┴─────┴──────────┴─────┴─────┘"
      ]
     },
     "execution_count": 45,
     "metadata": {},
     "output_type": "execute_result"
    }
   ],
   "source": [
    "df = df.groupby(\"Company\").apply(lambda d: d.sort(by=\"Time\", descending=True).head(1)).drop(\"Time\")\n",
    "df.head()"
   ]
  },
  {
   "cell_type": "code",
   "execution_count": 46,
   "id": "40286518",
   "metadata": {},
   "outputs": [
    {
     "data": {
      "text/html": [
       "<div><style>\n",
       ".dataframe > thead > tr > th,\n",
       ".dataframe > tbody > tr > td {\n",
       "  text-align: right;\n",
       "}\n",
       "</style>\n",
       "<small>shape: (7, 86)</small><table border=\"1\" class=\"dataframe\"><thead><tr><th>describe</th><th>Company</th><th>Financial Distress</th><th>x1</th><th>x2</th><th>x3</th><th>x4</th><th>x5</th><th>x6</th><th>x7</th><th>x8</th><th>x9</th><th>x10</th><th>x11</th><th>x12</th><th>x13</th><th>x14</th><th>x15</th><th>x16</th><th>x17</th><th>x18</th><th>x19</th><th>x20</th><th>x21</th><th>x22</th><th>x23</th><th>x24</th><th>x25</th><th>x26</th><th>x27</th><th>x28</th><th>x29</th><th>x30</th><th>x31</th><th>x32</th><th>x33</th><th>x34</th><th>&hellip;</th><th>x47</th><th>x48</th><th>x49</th><th>x50</th><th>x51</th><th>x52</th><th>x53</th><th>x54</th><th>x55</th><th>x56</th><th>x57</th><th>x58</th><th>x59</th><th>x60</th><th>x61</th><th>x62</th><th>x63</th><th>x64</th><th>x65</th><th>x66</th><th>x67</th><th>x68</th><th>x69</th><th>x70</th><th>x71</th><th>x72</th><th>x73</th><th>x74</th><th>x75</th><th>x76</th><th>x77</th><th>x78</th><th>x79</th><th>x80</th><th>x81</th><th>x82</th><th>x83</th></tr><tr><td>str</td><td>str</td><td>f64</td><td>f64</td><td>f64</td><td>f64</td><td>f64</td><td>f64</td><td>f64</td><td>f64</td><td>f64</td><td>f64</td><td>f64</td><td>f64</td><td>f64</td><td>f64</td><td>f64</td><td>f64</td><td>f64</td><td>f64</td><td>f64</td><td>f64</td><td>f64</td><td>f64</td><td>f64</td><td>f64</td><td>f64</td><td>f64</td><td>f64</td><td>f64</td><td>f64</td><td>f64</td><td>f64</td><td>f64</td><td>f64</td><td>f64</td><td>f64</td><td>&hellip;</td><td>f64</td><td>f64</td><td>f64</td><td>f64</td><td>f64</td><td>f64</td><td>f64</td><td>f64</td><td>f64</td><td>f64</td><td>f64</td><td>f64</td><td>f64</td><td>f64</td><td>f64</td><td>f64</td><td>f64</td><td>f64</td><td>f64</td><td>f64</td><td>f64</td><td>f64</td><td>f64</td><td>f64</td><td>f64</td><td>f64</td><td>f64</td><td>f64</td><td>f64</td><td>f64</td><td>f64</td><td>f64</td><td>f64</td><td>f64</td><td>f64</td><td>f64</td><td>f64</td></tr></thead><tbody><tr><td>&quot;count&quot;</td><td>&quot;422&quot;</td><td>422.0</td><td>422.0</td><td>422.0</td><td>422.0</td><td>422.0</td><td>422.0</td><td>422.0</td><td>422.0</td><td>422.0</td><td>422.0</td><td>422.0</td><td>422.0</td><td>422.0</td><td>422.0</td><td>422.0</td><td>422.0</td><td>422.0</td><td>422.0</td><td>422.0</td><td>422.0</td><td>422.0</td><td>422.0</td><td>422.0</td><td>422.0</td><td>422.0</td><td>422.0</td><td>422.0</td><td>422.0</td><td>422.0</td><td>422.0</td><td>422.0</td><td>422.0</td><td>422.0</td><td>422.0</td><td>422.0</td><td>&hellip;</td><td>422.0</td><td>422.0</td><td>422.0</td><td>422.0</td><td>422.0</td><td>422.0</td><td>422.0</td><td>422.0</td><td>422.0</td><td>422.0</td><td>422.0</td><td>422.0</td><td>422.0</td><td>422.0</td><td>422.0</td><td>422.0</td><td>422.0</td><td>422.0</td><td>422.0</td><td>422.0</td><td>422.0</td><td>422.0</td><td>422.0</td><td>422.0</td><td>422.0</td><td>422.0</td><td>422.0</td><td>422.0</td><td>422.0</td><td>422.0</td><td>422.0</td><td>422.0</td><td>422.0</td><td>422.0</td><td>422.0</td><td>422.0</td><td>422.0</td></tr><tr><td>&quot;null_count&quot;</td><td>&quot;0&quot;</td><td>0.0</td><td>0.0</td><td>0.0</td><td>0.0</td><td>0.0</td><td>0.0</td><td>0.0</td><td>0.0</td><td>0.0</td><td>0.0</td><td>0.0</td><td>0.0</td><td>0.0</td><td>0.0</td><td>0.0</td><td>0.0</td><td>0.0</td><td>0.0</td><td>0.0</td><td>0.0</td><td>0.0</td><td>0.0</td><td>0.0</td><td>0.0</td><td>0.0</td><td>0.0</td><td>0.0</td><td>0.0</td><td>0.0</td><td>0.0</td><td>0.0</td><td>0.0</td><td>0.0</td><td>0.0</td><td>0.0</td><td>&hellip;</td><td>0.0</td><td>0.0</td><td>0.0</td><td>0.0</td><td>0.0</td><td>0.0</td><td>0.0</td><td>0.0</td><td>0.0</td><td>0.0</td><td>0.0</td><td>0.0</td><td>0.0</td><td>0.0</td><td>0.0</td><td>0.0</td><td>0.0</td><td>0.0</td><td>0.0</td><td>0.0</td><td>0.0</td><td>0.0</td><td>0.0</td><td>0.0</td><td>0.0</td><td>0.0</td><td>0.0</td><td>0.0</td><td>0.0</td><td>0.0</td><td>0.0</td><td>0.0</td><td>0.0</td><td>0.0</td><td>0.0</td><td>0.0</td><td>0.0</td></tr><tr><td>&quot;mean&quot;</td><td>null</td><td>0.32877</td><td>1.406708</td><td>0.061094</td><td>0.64012</td><td>0.794028</td><td>0.081276</td><td>0.095781</td><td>0.84946</td><td>495.485553</td><td>0.103794</td><td>0.096211</td><td>0.657577</td><td>131574.975556</td><td>0.35988</td><td>3.327774</td><td>5704.76248</td><td>-56.76107</td><td>2222.370987</td><td>0.033123</td><td>329.480207</td><td>0.101732</td><td>1.271689</td><td>20.590531</td><td>0.205219</td><td>0.561797</td><td>536.422155</td><td>13.840571</td><td>-674.881804</td><td>0.129983</td><td>0.078324</td><td>0.377503</td><td>454232.439464</td><td>347.36402</td><td>0.881374</td><td>2613.9681</td><td>&hellip;</td><td>10288.220491</td><td>2208.889123</td><td>2.923207</td><td>0.79478</td><td>13.302714</td><td>-51.677523</td><td>0.142184</td><td>4729.247614</td><td>-0.23815</td><td>0.239146</td><td>4.709018</td><td>-0.012721</td><td>-18.683917</td><td>0.079031</td><td>0.481799</td><td>-2.668214</td><td>8.46447</td><td>-11.081203</td><td>27.480805</td><td>28.610945</td><td>11.149775</td><td>27138.220142</td><td>-10.94026</td><td>13.956813</td><td>18.082436</td><td>1.349603</td><td>29.785592</td><td>90.580273</td><td>173.721197</td><td>165.149974</td><td>19.832448</td><td>18.684893</td><td>4.728085</td><td>19.900474</td><td>0.86368</td><td>14.672986</td><td>34.509479</td></tr><tr><td>&quot;std&quot;</td><td>null</td><td>2.162473</td><td>1.594928</td><td>0.108615</td><td>0.20522</td><td>0.610424</td><td>0.112206</td><td>0.232494</td><td>1.511292</td><td>10173.949997</td><td>0.385378</td><td>0.147456</td><td>0.212054</td><td>1.3736e6</td><td>0.20522</td><td>3.732249</td><td>65730.159349</td><td>1167.526932</td><td>23505.610509</td><td>0.039578</td><td>6766.409436</td><td>0.388214</td><td>0.979705</td><td>152.40995</td><td>0.176835</td><td>0.199377</td><td>1186.767568</td><td>1.767857</td><td>14020.631575</td><td>0.300926</td><td>0.097413</td><td>0.187029</td><td>9.1515e6</td><td>7107.106362</td><td>0.132942</td><td>28409.32662</td><td>&hellip;</td><td>122909.429247</td><td>2072.994335</td><td>3.345164</td><td>0.176834</td><td>2.017767</td><td>1063.9395</td><td>0.12431</td><td>11437.128045</td><td>0.546398</td><td>0.159512</td><td>64.981021</td><td>0.025926</td><td>383.20155</td><td>0.101569</td><td>3.179061</td><td>6.77484</td><td>6.523011</td><td>12.787869</td><td>29.611517</td><td>3.747765</td><td>0.636375</td><td>11178.639118</td><td>71.047061</td><td>4.345468</td><td>11.475312</td><td>0.97479</td><td>2.44308</td><td>9.911088</td><td>78.556797</td><td>74.734959</td><td>2.062139</td><td>3.143683</td><td>6.587361</td><td>7.629456</td><td>1.688903</td><td>10.14279</td><td>14.565232</td></tr><tr><td>&quot;min&quot;</td><td>null</td><td>-8.6317</td><td>0.20651</td><td>-0.25808</td><td>0.034891</td><td>5.3500e-7</td><td>-0.26844</td><td>-0.59924</td><td>0.039691</td><td>-1.0365</td><td>-3.6112</td><td>-0.31866</td><td>0.055894</td><td>-161000.0</td><td>0.032101</td><td>0.036153</td><td>0.0061223</td><td>-23984.0</td><td>0.0000869</td><td>0.000305</td><td>0.0</td><td>0.000629</td><td>0.000006</td><td>8.3000e-7</td><td>-0.28147</td><td>0.032925</td><td>-3374.6</td><td>9.6165</td><td>-288000.0</td><td>-0.49944</td><td>0.0</td><td>0.023358</td><td>0.0069371</td><td>0.015421</td><td>0.10735</td><td>0.0000869</td><td>&hellip;</td><td>0.036153</td><td>533.07</td><td>0.034115</td><td>0.0060043</td><td>0.0</td><td>-21856.0</td><td>-0.12254</td><td>0.03125</td><td>-1.0</td><td>0.0</td><td>-0.99779</td><td>-0.21617</td><td>-7872.0</td><td>-0.34906</td><td>-7.714</td><td>-11.824</td><td>-25.736</td><td>-21.411</td><td>-21.907</td><td>15.916</td><td>10.3</td><td>7958.3</td><td>-58.122</td><td>10.4</td><td>-10.665</td><td>0.0</td><td>22.0</td><td>54.806</td><td>25.235</td><td>24.551</td><td>15.5</td><td>12.0</td><td>-20.2</td><td>1.0</td><td>-0.49922</td><td>1.0</td><td>5.0</td></tr><tr><td>&quot;max&quot;</td><td>null</td><td>20.176</td><td>29.233</td><td>0.51456</td><td>0.9679</td><td>4.8973</td><td>0.4787</td><td>0.92955</td><td>28.793</td><td>209000.0</td><td>1.7823</td><td>0.54987</td><td>0.99827</td><td>2.6e7</td><td>0.96511</td><td>30.152</td><td>1.03e6</td><td>3.7147</td><td>334000.0</td><td>0.32354</td><td>139000.0</td><td>5.9646</td><td>7.5295</td><td>2846.3</td><td>0.994</td><td>0.93563</td><td>9851.6</td><td>19.106</td><td>2482.3</td><td>4.6254</td><td>0.69046</td><td>0.948</td><td>1.88e8</td><td>146000.0</td><td>1.0</td><td>451000.0</td><td>&hellip;</td><td>1.66e6</td><td>19207.0</td><td>26.398</td><td>1.2815</td><td>19.08</td><td>3.7244</td><td>0.83147</td><td>121000.0</td><td>1.0</td><td>0.92653</td><td>1182.8</td><td>0.12164</td><td>1.4029</td><td>0.86332</td><td>7.4166</td><td>15.381</td><td>14.321</td><td>18.77</td><td>124.76</td><td>39.432</td><td>13.5</td><td>34501.0</td><td>364.95</td><td>34.7</td><td>61.476</td><td>4.0</td><td>36.5</td><td>120.87</td><td>227.5</td><td>214.5</td><td>22.0</td><td>22.0</td><td>8.6</td><td>37.0</td><td>18.107</td><td>49.0</td><td>74.0</td></tr><tr><td>&quot;median&quot;</td><td>null</td><td>0.195765</td><td>1.138</td><td>0.0412535</td><td>0.67835</td><td>0.66902</td><td>0.061591</td><td>0.088341</td><td>0.64554</td><td>0.048887</td><td>0.12304</td><td>0.074875</td><td>0.70246</td><td>1.5813</td><td>0.32165</td><td>2.10895</td><td>3.00145</td><td>0.0885755</td><td>2.5632</td><td>0.020643</td><td>0.0458045</td><td>0.039181</td><td>1.0372</td><td>4.1796</td><td>0.180555</td><td>0.570095</td><td>212.06</td><td>13.8525</td><td>2.3258</td><td>0.0823795</td><td>0.04547</td><td>0.36145</td><td>5.85675</td><td>0.517455</td><td>0.92647</td><td>3.38485</td><td>&hellip;</td><td>2.225</td><td>1601.3</td><td>1.78495</td><td>0.819445</td><td>13.3915</td><td>0.119505</td><td>0.119275</td><td>1952.95</td><td>-0.179075</td><td>0.20969</td><td>0.029348</td><td>-0.003753</td><td>-0.005946</td><td>0.029084</td><td>-1.5863</td><td>-7.5046</td><td>12.145</td><td>-20.229</td><td>28.286</td><td>30.023</td><td>11.0</td><td>34501.0</td><td>-32.209</td><td>11.9</td><td>13.871</td><td>1.0</td><td>29.0</td><td>91.7</td><td>227.5</td><td>214.5</td><td>21.0</td><td>20.5</td><td>8.6</td><td>20.0</td><td>0.344645</td><td>13.0</td><td>33.0</td></tr></tbody></table></div>"
      ],
      "text/plain": [
       "shape: (7, 86)\n",
       "┌────────────┬─────────┬────────────┬──────────┬───┬───────────┬──────────┬───────────┬───────────┐\n",
       "│ describe   ┆ Company ┆ Financial  ┆ x1       ┆ … ┆ x80       ┆ x81      ┆ x82       ┆ x83       │\n",
       "│ ---        ┆ ---     ┆ Distress   ┆ ---      ┆   ┆ ---       ┆ ---      ┆ ---       ┆ ---       │\n",
       "│ str        ┆ str     ┆ ---        ┆ f64      ┆   ┆ f64       ┆ f64      ┆ f64       ┆ f64       │\n",
       "│            ┆         ┆ f64        ┆          ┆   ┆           ┆          ┆           ┆           │\n",
       "╞════════════╪═════════╪════════════╪══════════╪═══╪═══════════╪══════════╪═══════════╪═══════════╡\n",
       "│ count      ┆ 422     ┆ 422.0      ┆ 422.0    ┆ … ┆ 422.0     ┆ 422.0    ┆ 422.0     ┆ 422.0     │\n",
       "│ null_count ┆ 0       ┆ 0.0        ┆ 0.0      ┆ … ┆ 0.0       ┆ 0.0      ┆ 0.0       ┆ 0.0       │\n",
       "│ mean       ┆ null    ┆ 0.32877    ┆ 1.406708 ┆ … ┆ 19.900474 ┆ 0.86368  ┆ 14.672986 ┆ 34.509479 │\n",
       "│ std        ┆ null    ┆ 2.162473   ┆ 1.594928 ┆ … ┆ 7.629456  ┆ 1.688903 ┆ 10.14279  ┆ 14.565232 │\n",
       "│ min        ┆ null    ┆ -8.6317    ┆ 0.20651  ┆ … ┆ 1.0       ┆ -0.49922 ┆ 1.0       ┆ 5.0       │\n",
       "│ max        ┆ null    ┆ 20.176     ┆ 29.233   ┆ … ┆ 37.0      ┆ 18.107   ┆ 49.0      ┆ 74.0      │\n",
       "│ median     ┆ null    ┆ 0.195765   ┆ 1.138    ┆ … ┆ 20.0      ┆ 0.344645 ┆ 13.0      ┆ 33.0      │\n",
       "└────────────┴─────────┴────────────┴──────────┴───┴───────────┴──────────┴───────────┴───────────┘"
      ]
     },
     "execution_count": 46,
     "metadata": {},
     "output_type": "execute_result"
    }
   ],
   "source": [
    "df.describe()"
   ]
  },
  {
   "cell_type": "code",
   "execution_count": 60,
   "id": "df3ba097",
   "metadata": {},
   "outputs": [],
   "source": [
    "from sklearn.linear_model import LinearRegression\n",
    "from sklearn.model_selection import train_test_split, RepeatedKFold, cross_val_score\n",
    "from sklearn.metrics import mean_squared_error"
   ]
  },
  {
   "cell_type": "code",
   "execution_count": 70,
   "id": "dbbb8efe",
   "metadata": {},
   "outputs": [
    {
     "name": "stdout",
     "output_type": "stream",
     "text": [
      "R^2: -11.083799788456615\n",
      "MSE: 36.144027365997886\n"
     ]
    }
   ],
   "source": [
    "y = df[\"Financial Distress\"]\n",
    "X = df.drop([\"Financial Distress\", \"Company\"])\n",
    "\n",
    "X_train, X_test, y_train, y_test = train_test_split(X, y, test_size=0.2, random_state=42)\n",
    "\n",
    "reg = LinearRegression(fit_intercept=True)\n",
    "\n",
    "reg.fit(X_train.to_numpy(), y_train.to_numpy())\n",
    "\n",
    "y_pred = reg.predict(X_test.to_numpy())\n",
    "\n",
    "print(f\"R^2: {reg.score(X_test.to_numpy(), y_test.to_numpy())}\")\n",
    "mse = mean_squared_error(y_test, y_pred)\n",
    "print(f\"MSE: {mse}\")"
   ]
  },
  {
   "cell_type": "code",
   "execution_count": 71,
   "id": "74ca221b",
   "metadata": {},
   "outputs": [],
   "source": [
    "import xgboost as xgb"
   ]
  },
  {
   "cell_type": "code",
   "execution_count": 72,
   "id": "53d01e0d",
   "metadata": {},
   "outputs": [
    {
     "name": "stdout",
     "output_type": "stream",
     "text": [
      "MSE: 1.269 (0.620)\n"
     ]
    }
   ],
   "source": [
    "model = xgb.XGBRegressor()\n",
    "model.fit(X_train.to_numpy(), y_train.to_numpy())\n",
    "cv = RepeatedKFold(n_splits=10, n_repeats=3, random_state=1)\n",
    "scores = cross_val_score(model, X_test.to_numpy(), y_test.to_numpy(), scoring='neg_mean_squared_error', cv=cv, n_jobs=-1)\n",
    "scores = np.absolute(scores)\n",
    "print('MSE: %.3f (%.3f)' % (scores.mean(), scores.std()) )\n"
   ]
  },
  {
   "cell_type": "code",
   "execution_count": null,
   "id": "e5914161",
   "metadata": {},
   "outputs": [],
   "source": []
  }
 ],
 "metadata": {
  "kernelspec": {
   "display_name": "Python 3 (ipykernel)",
   "language": "python",
   "name": "python3"
  },
  "language_info": {
   "codemirror_mode": {
    "name": "ipython",
    "version": 3
   },
   "file_extension": ".py",
   "mimetype": "text/x-python",
   "name": "python",
   "nbconvert_exporter": "python",
   "pygments_lexer": "ipython3",
   "version": "3.10.5"
  }
 },
 "nbformat": 4,
 "nbformat_minor": 5
}
